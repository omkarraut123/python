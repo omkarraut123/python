{
 "cells": [
  {
   "cell_type": "markdown",
   "metadata": {},
   "source": [
    "### list operations"
   ]
  },
  {
   "cell_type": "code",
   "execution_count": 30,
   "metadata": {},
   "outputs": [
    {
     "name": "stdout",
     "output_type": "stream",
     "text": [
      "2\n",
      "0\n",
      "[100, 65, 21, 11]\n"
     ]
    },
    {
     "data": {
      "text/plain": [
       "[100, 65, 21, 11]"
      ]
     },
     "execution_count": 30,
     "metadata": {},
     "output_type": "execute_result"
    }
   ],
   "source": [
    "l=[2,33,12,3,12]\n",
    "l.remove(2)\n",
    "l.insert(1,22)\n",
    "l.reverse()\n",
    "print(l.count(12))\n",
    "l.clear()\n",
    "l.extend([11,21,65,100]) # not extends \n",
    "l.append(150)\n",
    "print(l.index(11))\n",
    "l.pop() # pop() can take index as well\n",
    "l.sort(reverse=True)\n",
    "print(l)\n",
    "l.copy()"
   ]
  },
  {
   "cell_type": "markdown",
   "metadata": {},
   "source": [
    "### Dictionary operations"
   ]
  },
  {
   "cell_type": "code",
   "execution_count": 42,
   "metadata": {},
   "outputs": [
    {
     "name": "stdout",
     "output_type": "stream",
     "text": [
      "no such key\n",
      "('nov', 31)\n",
      "{'jan': 31, 'mar': 31, 'may': 31, 'july': 31, 'sep': 31, 'feb': 28}\n",
      "jan 31\n",
      "mar 31\n",
      "may 31\n",
      "july 31\n",
      "sep 31\n",
      "feb 28\n"
     ]
    }
   ],
   "source": [
    "m = {'jan':31,'mar':31,'may':31,'july':31,'sep':31,'nov':31}\n",
    "print(m.get('ab',\"no such key\")) # by default return None\n",
    "print(m.popitem()) # pop last items in dict\n",
    "#print(m.pop('jan'))\n",
    "#print(m.items())\n",
    "#print(m.get('jan'))\n",
    "m.update({'feb':28})\n",
    "print(m)\n",
    "#m.clear()\n",
    "m.values()\n",
    "m.keys()\n",
    "\n",
    "for key,value in m.items():\n",
    "    print(key,value)"
   ]
  },
  {
   "cell_type": "markdown",
   "metadata": {},
   "source": [
    "### Math functions"
   ]
  },
  {
   "cell_type": "code",
   "execution_count": 68,
   "metadata": {},
   "outputs": [
    {
     "data": {
      "text/plain": [
       "6"
      ]
     },
     "execution_count": 68,
     "metadata": {},
     "output_type": "execute_result"
    }
   ],
   "source": [
    "import math \n",
    "int(math.sqrt(25))\n",
    "math.factorial(5)\n",
    "math.floor(5.8)\n",
    "int(5.2)\n",
    "int(math.pow(2,2))\n",
    "math.gcd(6,12)\n"
   ]
  },
  {
   "cell_type": "markdown",
   "metadata": {},
   "source": [
    "## perfect square"
   ]
  },
  {
   "cell_type": "code",
   "execution_count": 33,
   "metadata": {},
   "outputs": [
    {
     "name": "stdout",
     "output_type": "stream",
     "text": [
      "229\n",
      "given number is not a perfect square\n"
     ]
    }
   ],
   "source": [
    "import math as m\n",
    "n=int(input())\n",
    "if(m.sqrt(n) - int(m.sqrt(n)) == 0):\n",
    "    print(\"given number is perfect square\")\n",
    "else:\n",
    "    print(\"given number is not a perfect square\")"
   ]
  },
  {
   "cell_type": "markdown",
   "metadata": {},
   "source": [
    "## Binay conversion"
   ]
  },
  {
   "cell_type": "code",
   "execution_count": 24,
   "metadata": {},
   "outputs": [
    {
     "name": "stdout",
     "output_type": "stream",
     "text": [
      "28\n",
      "11100\n",
      "11100\n",
      "21\n"
     ]
    }
   ],
   "source": [
    "n = int(input())\n",
    "print(bin(n)[2:])\n",
    "print(\"{:b}\".format(n))\n",
    "print(int('10101',2)) # binary to decimal"
   ]
  },
  {
   "cell_type": "markdown",
   "metadata": {},
   "source": [
    "## Area of circle with floating point"
   ]
  },
  {
   "cell_type": "code",
   "execution_count": 30,
   "metadata": {},
   "outputs": [
    {
     "name": "stdout",
     "output_type": "stream",
     "text": [
      "5\n",
      "78.5000000000\n"
     ]
    }
   ],
   "source": [
    "r = int(input())\n",
    "print(\"%.10f\"%(3.14*r*r))"
   ]
  },
  {
   "cell_type": "markdown",
   "metadata": {},
   "source": [
    "## Strong Number"
   ]
  },
  {
   "cell_type": "code",
   "execution_count": 44,
   "metadata": {},
   "outputs": [
    {
     "name": "stdout",
     "output_type": "stream",
     "text": [
      "145\n",
      "Strong number\n"
     ]
    }
   ],
   "source": [
    "import math as m\n",
    "n = int(input())\n",
    "result = sum([ m.factorial(int(x)) for x in str(n)])\n",
    "if result == n:\n",
    "    print(\"Strong number\")\n",
    "else:\n",
    "    print(\"Not a Strong number\")"
   ]
  },
  {
   "cell_type": "markdown",
   "metadata": {},
   "source": [
    "## Armstrong number"
   ]
  },
  {
   "cell_type": "code",
   "execution_count": 43,
   "metadata": {},
   "outputs": [
    {
     "name": "stdout",
     "output_type": "stream",
     "text": [
      "371\n",
      "Armstrong number\n"
     ]
    }
   ],
   "source": [
    "import math as m\n",
    "n = int(input())\n",
    "result = sum([ int(m.pow(int(x),3)) for x in str(n)])\n",
    "if result == n:\n",
    "    print(\"Armstrong number\")\n",
    "else:\n",
    "    print(\"Not a Armstrong number\")"
   ]
  },
  {
   "cell_type": "markdown",
   "metadata": {},
   "source": [
    "## prime number in given range"
   ]
  },
  {
   "cell_type": "code",
   "execution_count": 48,
   "metadata": {},
   "outputs": [
    {
     "name": "stdout",
     "output_type": "stream",
     "text": [
      "False\n",
      "[2, 3, 5, 7, 11, 13, 17, 19]\n"
     ]
    }
   ],
   "source": [
    "import sympy as s\n",
    "print(s.isprime(n))\n",
    "print(list(s.primerange(1,20)))"
   ]
  },
  {
   "cell_type": "code",
   "execution_count": 57,
   "metadata": {},
   "outputs": [
    {
     "name": "stdout",
     "output_type": "stream",
     "text": [
      "20\n",
      "[2, 3, 5, 7, 11, 13, 17, 19]\n"
     ]
    }
   ],
   "source": [
    "def prime(n):\n",
    "    flag =True\n",
    "    for i in range(2,n):\n",
    "        if n%i == 0 :\n",
    "            flag = False\n",
    "            break\n",
    "    return flag\n",
    "n =int(input())\n",
    "l=[]\n",
    "for i in range(2,n+1):\n",
    "    f=prime(i)\n",
    "    if(f):\n",
    "        l.append(i)\n",
    "    else:\n",
    "        pass\n",
    "print(l)    "
   ]
  },
  {
   "cell_type": "markdown",
   "metadata": {},
   "source": [
    "## GCD and LCM\n",
    "##### LCM(a, b) = (a x b) / GCD(a, b)"
   ]
  },
  {
   "cell_type": "code",
   "execution_count": 2,
   "metadata": {},
   "outputs": [
    {
     "name": "stdout",
     "output_type": "stream",
     "text": [
      "gcd is  4\n",
      "lcm is  24\n"
     ]
    }
   ],
   "source": [
    "def gcd(a,b):\n",
    "    if b==0:\n",
    "        return a\n",
    "    else:\n",
    "        return gcd(b,a%b)\n",
    "\n",
    "a=8\n",
    "b=12\n",
    "print(\"gcd is \",gcd(a,b))  \n",
    "print(\"lcm is \",(a*b)//gcd(a,b))"
   ]
  },
  {
   "cell_type": "markdown",
   "metadata": {},
   "source": [
    "## Fibonacci series\n",
    "1 1 2 3 5 8 13"
   ]
  },
  {
   "cell_type": "code",
   "execution_count": 3,
   "metadata": {},
   "outputs": [
    {
     "name": "stdout",
     "output_type": "stream",
     "text": [
      "1 1 2 3 5 8 13 21 34 55 89 144 233 377 "
     ]
    }
   ],
   "source": [
    "nterms = int(input(\"How many terms? \"))\n",
    "\n",
    "# first two terms\n",
    "n1, n2 = 0, 1\n",
    "count = 0\n",
    "while count < nterms:\n",
    "       print(n1,end=' ')\n",
    "       nth = n1 + n2\n",
    "       # update values\n",
    "       n1 = n2\n",
    "       n2 = nth\n",
    "       count += 1"
   ]
  },
  {
   "cell_type": "code",
   "execution_count": 6,
   "metadata": {},
   "outputs": [
    {
     "name": "stdout",
     "output_type": "stream",
     "text": [
      "Fibonacci sequence:\n",
      "0\n",
      "1\n",
      "1\n",
      "2\n",
      "3\n",
      "5\n",
      "8\n",
      "13\n",
      "21\n",
      "34\n"
     ]
    }
   ],
   "source": [
    "def recur_fibo(n):\n",
    "   if n <= 1:\n",
    "       return n\n",
    "   else:\n",
    "       return(recur_fibo(n-1) + recur_fibo(n-2))\n",
    "\n",
    "nterms = 10\n",
    "\n",
    "# check if the number of terms is valid\n",
    "if nterms <= 0:\n",
    "   print(\"Plese enter a positive integer\")\n",
    "else:\n",
    "   print(\"Fibonacci sequence:\")\n",
    "   for i in range(nterms):\n",
    "       print(recur_fibo(i))"
   ]
  },
  {
   "cell_type": "markdown",
   "metadata": {},
   "source": [
    "## Leap year"
   ]
  },
  {
   "cell_type": "code",
   "execution_count": 9,
   "metadata": {},
   "outputs": [
    {
     "name": "stdout",
     "output_type": "stream",
     "text": [
      "Leap year\n"
     ]
    }
   ],
   "source": [
    "def leap(year):\n",
    "    if(((year % 4 == 0) and (year % 100!= 0)) or (year%400 == 0)):\n",
    "        return True\n",
    "    else:\n",
    "        return False\n",
    "\n",
    "if(leap(2020)):\n",
    "    print(\"Leap year\")\n",
    "else:\n",
    "    print(\"Not a leap year\")\n",
    "    "
   ]
  },
  {
   "cell_type": "markdown",
   "metadata": {},
   "source": [
    "## problem 1"
   ]
  },
  {
   "cell_type": "code",
   "execution_count": 2,
   "metadata": {},
   "outputs": [
    {
     "name": "stdout",
     "output_type": "stream",
     "text": [
      "sample\n",
      "plesam\n",
      "1\n"
     ]
    }
   ],
   "source": [
    "s1=input()\n",
    "s2=input()\n",
    "f=s1[0]\n",
    "def rotate(f,s1,s2):\n",
    "    i=s2.index(f)\n",
    "    if(s1 == (s2[i:] + s2[:i])):\n",
    "        return 1\n",
    "    else:\n",
    "        return -1\n",
    "    \n",
    "print(rotate(f,s1,s2))\n"
   ]
  },
  {
   "cell_type": "markdown",
   "metadata": {},
   "source": [
    "## Check negative number"
   ]
  },
  {
   "cell_type": "code",
   "execution_count": 8,
   "metadata": {},
   "outputs": [
    {
     "name": "stdout",
     "output_type": "stream",
     "text": [
      "1,2,-3,3,-7,5,4,-1,4,5\n",
      "3\n"
     ]
    }
   ],
   "source": [
    "mylist = map(int,input().split(\",\"))\n",
    "n=sum(1 for x in mylist if x<0)\n",
    "print(n)"
   ]
  },
  {
   "cell_type": "markdown",
   "metadata": {},
   "source": [
    "## Spiral metrix"
   ]
  },
  {
   "cell_type": "code",
   "execution_count": null,
   "metadata": {},
   "outputs": [],
   "source": [
    "import numpy as np\n",
    "n=3\n",
    "arr=np.array([[1,2,3],[2,3,4],[4,5,3]])\n",
    "def spiral(arr,n):\n",
    "    arr_l=list()\n",
    "    i,k,l=0,0,0\n",
    "    last_row,last_col=n-1,n-1\n",
    "    while(k<=last_row and l<=last_col):\n",
    "        for i in range(k,last_col+1):\n",
    "            arr_l.append(arr[k,i])\n",
    "        k+=1\n",
    "        \n",
    "        \n",
    "        for i in range(k,last_row+1):\n",
    "            arr_l.append(arr[i][last_col])\n",
    "        last_col-=1    \n",
    "        \n",
    "        if(k<=last_row):\n",
    "            for i in range(last_col,l-1,-1):\n",
    "                arr_l.append(arr[last_row,i])\n",
    "            last_row-=1 \n",
    "           \n",
    "        if(l<=last_col):\n",
    "            for i in range(last_row,k-1,-1):\n",
    "                arr_l.append(arr[i,l])\n",
    "            l+=1    \n",
    "    return arr_l        \n",
    "           \n",
    "\n",
    "arr_l=sorted(spiral(arr,n))\n",
    "\n",
    "def spiral1(arr,arr_l,n):\n",
    "    \n",
    "    i,k,l=0,0,0\n",
    "    j=0\n",
    "    last_row,last_col=n-1,n-1\n",
    "    while(k<=last_row and l<=last_col):\n",
    "        for i in range(k,last_col+1):\n",
    "            arr[k,i]=arr_l[j]\n",
    "            j+=1\n",
    "        k+=1\n",
    "        \n",
    "        \n",
    "        for i in range(k,last_row+1):\n",
    "            arr[i][last_col]=arr_l[j]\n",
    "            j+=1\n",
    "        last_col-=1    \n",
    "        \n",
    "        if(k<=last_row):\n",
    "            for i in range(last_col,l-1,-1):\n",
    "                arr[last_row,i]=arr_l[j]\n",
    "                j+=1\n",
    "                \n",
    "                \n",
    "            last_row-=1 \n",
    "           \n",
    "        if(l<=last_col):\n",
    "            for i in range(last_row,k-1,-1):\n",
    "                arr[i,l]=arr_l[j]\n",
    "                j+=1\n",
    "                \n",
    "            l+=1    \n",
    "    return arr \n",
    "    \n",
    "print(spiral1(arr,arr_l,n))  \n",
    "    \n",
    " "
   ]
  },
  {
   "cell_type": "markdown",
   "metadata": {},
   "source": [
    "## Word_Game"
   ]
  },
  {
   "cell_type": "code",
   "execution_count": 1,
   "metadata": {},
   "outputs": [
    {
     "name": "stdout",
     "output_type": "stream",
     "text": [
      "Movie\n",
      "Abhi 15\n"
     ]
    }
   ],
   "source": [
    "def word_game(s):\n",
    "\n",
    "    vowels = ['A', 'E', 'I', 'O', 'U']\n",
    "\n",
    "    RamuS = 0  #Vowels\n",
    "    AbhiS = 0  #Consonants\n",
    "    for i, c in enumerate(s):\n",
    "\n",
    "        if c in vowels:\n",
    "            RamuS += len(s) - i\n",
    "        else:\n",
    "            AbhiS += len(s) - i\n",
    "\n",
    "        \n",
    "    if AbhiS == RamuS:\n",
    "        print(\"Draw\")\n",
    "    elif(AbhiS > RamuS):\n",
    "        print('Abhi {}'.format(AbhiS))\n",
    "    else:\n",
    "        print('Ramu {}'.format(RamuS))\n",
    "\n",
    "#Driver code\n",
    "\n",
    "s = input()\n",
    "word_game(s)\n",
    "\n"
   ]
  },
  {
   "cell_type": "markdown",
   "metadata": {},
   "source": [
    "###### First line contains an integer, N(1,<=N<=10^5) denoting the number of persons. Next N lines contains 4 integersHH1,MM1,HH2,and MM2, (0<=HH1,HH2<=23) (0<=MM1,MM2<=59), denoting the start time (HH1:MM1) and end time (HH2:MM2). It is guaranteed that start and end time will not span midnight."
   ]
  },
  {
   "cell_type": "code",
   "execution_count": null,
   "metadata": {},
   "outputs": [],
   "source": [
    "# You are using Python\n",
    "n=int(input())\n",
    "times=[0]*1440\n",
    "\n",
    "for i in range(n):\n",
    "    h1,m1,h2,m2=map(int,input().split())\n",
    "    x=h1*60+m1\n",
    "    y=h2*60+m2\n",
    "    \n",
    "    for j in range(x,y+1):\n",
    "        times[j]+=1\n",
    "        \n",
    "        \n",
    "print(max(times))        "
   ]
  },
  {
   "cell_type": "markdown",
   "metadata": {},
   "source": [
    "## problem 3"
   ]
  },
  {
   "cell_type": "code",
   "execution_count": 13,
   "metadata": {},
   "outputs": [
    {
     "name": "stdout",
     "output_type": "stream",
     "text": [
      "1\n",
      "5 1\n",
      "1 2 3 4 5\n",
      "4\n"
     ]
    }
   ],
   "source": [
    "t=int(input())\n",
    "for i in range(t):\n",
    "      \n",
    "    n,m=list(map(int,input().split()))\n",
    "    arr = list(map(int,input().split()))\n",
    "    arr.sort()\n",
    "    s1 = sum(arr[m:])\n",
    "    s2 = sum(arr[:n-m])\n",
    "    print(s1-s2)\n",
    "               \n",
    "    \n",
    "    "
   ]
  },
  {
   "cell_type": "markdown",
   "metadata": {},
   "source": [
    "## Even odd series"
   ]
  },
  {
   "cell_type": "code",
   "execution_count": 5,
   "metadata": {},
   "outputs": [
    {
     "name": "stdout",
     "output_type": "stream",
     "text": [
      "16\n",
      "1 1 2 3 4 9 8 27 16 81 32 243 64 729 128 2187 "
     ]
    }
   ],
   "source": [
    "n = int(input())\n",
    "n=n-2\n",
    "print(\"1 1\",end=\" \")\n",
    "a=1\n",
    "b=1\n",
    "for i in range(1,n+1):\n",
    "    if(i%2==0):\n",
    "        a*=3\n",
    "        print(a,end=' ')\n",
    "    else:\n",
    "        b*=2\n",
    "        print(b,end=' ')"
   ]
  },
  {
   "cell_type": "markdown",
   "metadata": {},
   "source": [
    "### write a program to calculate number of day's in month\n",
    "##### dd-mm-yyyy"
   ]
  },
  {
   "cell_type": "code",
   "execution_count": 8,
   "metadata": {},
   "outputs": [
    {
     "name": "stdout",
     "output_type": "stream",
     "text": [
      "2-feb-2019\n",
      "28\n"
     ]
    }
   ],
   "source": [
    "d,m,y = list(input().split('-'))\n",
    "month = {'jan':31,'mar':31,'may':31,'july':31,'sep':31,'nov':31}\n",
    "if(m=='feb'):\n",
    "    if(int(y)%4==0 and int(y)%100 !=0 or int(y) % 400 ==0):\n",
    "        print(29)\n",
    "    else:\n",
    "        print(28)\n",
    "else:\n",
    "    if(m in month):\n",
    "        print(31)\n",
    "    else:\n",
    "        print(30)"
   ]
  },
  {
   "cell_type": "markdown",
   "metadata": {},
   "source": [
    "### binary to decimal, decimal to binary,  decimal to hex"
   ]
  },
  {
   "cell_type": "code",
   "execution_count": 22,
   "metadata": {},
   "outputs": [
    {
     "name": "stdout",
     "output_type": "stream",
     "text": [
      "10001\n",
      "11\n",
      "17\n"
     ]
    }
   ],
   "source": [
    "print(\"{:b}\".format(17)) # binary\n",
    "print(\"{:x}\".format(17)) # hex\n",
    "print(int('10001',2)) # binary to decimal"
   ]
  },
  {
   "cell_type": "markdown",
   "metadata": {},
   "source": [
    "## CommandLine argument"
   ]
  },
  {
   "cell_type": "code",
   "execution_count": 23,
   "metadata": {},
   "outputs": [
    {
     "name": "stdout",
     "output_type": "stream",
     "text": [
      "['C:\\\\ProgramData\\\\Anaconda3\\\\lib\\\\site-packages\\\\ipykernel_launcher.py', '-f', 'C:\\\\Users\\\\omkar\\\\AppData\\\\Roaming\\\\jupyter\\\\runtime\\\\kernel-f920bde9-58b6-48f8-9178-ffd8141a237f.json']\n"
     ]
    }
   ],
   "source": [
    "import sys\n",
    "def main(l):\n",
    "    print(\"Command line arguments \",l)\n",
    "if __name__==\"__main__\":\n",
    "    main(sys.argv[1:])"
   ]
  },
  {
   "cell_type": "markdown",
   "metadata": {},
   "source": [
    "## deque"
   ]
  },
  {
   "cell_type": "code",
   "execution_count": 50,
   "metadata": {},
   "outputs": [
    {
     "name": "stdout",
     "output_type": "stream",
     "text": [
      "deque(['e', 'a', 'b', 'c'])\n",
      "deque(['e', 'a', 'c'])\n"
     ]
    }
   ],
   "source": [
    "from collections import deque\n",
    "d = deque()\n",
    "d2 = deque([1,2,3,4])\n",
    "d.append('a')\n",
    "d.append('b')\n",
    "d.append('c')\n",
    "d.appendleft('e')\n",
    "print(d)\n",
    "d.remove('b')\n",
    "print(d)\n",
    "d.rotate(2)\n",
    "d.reverse()\n",
    "l=list(d)\n"
   ]
  },
  {
   "cell_type": "code",
   "execution_count": 1,
   "metadata": {},
   "outputs": [
    {
     "name": "stdout",
     "output_type": "stream",
     "text": [
      "[2, 3, 4, 6, 7]\n"
     ]
    }
   ],
   "source": [
    "arr = [3,4,2,6,7]\n",
    "arr.sort()\n",
    "print(arr)"
   ]
  },
  {
   "cell_type": "markdown",
   "metadata": {},
   "source": [
    "Problem statement : Given an array with integers,  find the index to minimize the difference between \n",
    "left part sum and right part sum, not including the index number itself, return the position of the integer. "
   ]
  },
  {
   "cell_type": "markdown",
   "metadata": {},
   "source": [
    "[3,4,2,6,7,10,20,3]"
   ]
  },
  {
   "cell_type": "code",
   "execution_count": 9,
   "metadata": {},
   "outputs": [
    {
     "name": "stdout",
     "output_type": "stream",
     "text": [
      "1 2 4 2 1\n",
      "min index of sum difference is :  2\n"
     ]
    }
   ],
   "source": [
    "arr = list(map(int,input().split()))\n",
    "minsum=None\n",
    "minindex=0\n",
    "l=len(arr)\n",
    "for i in range(1,l-1):\n",
    "    if(minsum == None):\n",
    "        minsum = abs(sum(arr[:i]) - sum(arr[i+1:]))\n",
    "        minindex = i\n",
    "    else:\n",
    "        minsum_new = abs(sum(arr[:i]) - sum(arr[i+1:]))\n",
    "        if(minsum_new<minsum):\n",
    "            minsum = minsum_new\n",
    "            minindex = i\n",
    "print(\"min index of sum difference is : \",minindex)        \n",
    "        \n",
    "       \n",
    "    "
   ]
  },
  {
   "cell_type": "code",
   "execution_count": 4,
   "metadata": {},
   "outputs": [
    {
     "data": {
      "text/plain": [
       "1"
      ]
     },
     "execution_count": 4,
     "metadata": {},
     "output_type": "execute_result"
    }
   ],
   "source": [
    "import math as m\n",
    "abs(1)"
   ]
  },
  {
   "cell_type": "code",
   "execution_count": 2,
   "metadata": {},
   "outputs": [
    {
     "data": {
      "text/plain": [
       "-1"
      ]
     },
     "execution_count": 2,
     "metadata": {},
     "output_type": "execute_result"
    }
   ],
   "source": [
    "def StringPeriods(s):\n",
    "    \n",
    "\n",
    "    for i in range(int(len(s)/2), 0,-1):\n",
    "        \n",
    "        a = s[:i]\n",
    "        count = 2\n",
    "        b = ''\n",
    "\n",
    "        while len(b) < len(s):\n",
    "            b = a * count\n",
    "\n",
    "            if b == s:\n",
    "                return a\n",
    "            count += 1\n",
    "    return -1\n",
    "StringPeriods(\"abcxabc\")"
   ]
  },
  {
   "cell_type": "code",
   "execution_count": 20,
   "metadata": {},
   "outputs": [
    {
     "ename": "TypeError",
     "evalue": "'int' object is not subscriptable",
     "output_type": "error",
     "traceback": [
      "\u001b[1;31m---------------------------------------------------------------------------\u001b[0m",
      "\u001b[1;31mTypeError\u001b[0m                                 Traceback (most recent call last)",
      "\u001b[1;32m<ipython-input-20-4f82bd56908f>\u001b[0m in \u001b[0;36m<module>\u001b[1;34m\u001b[0m\n\u001b[0;32m     19\u001b[0m     \u001b[1;32mreturn\u001b[0m \u001b[0mx\u001b[0m\u001b[1;33m\u001b[0m\u001b[1;33m\u001b[0m\u001b[0m\n\u001b[0;32m     20\u001b[0m \u001b[0mnum\u001b[0m\u001b[1;33m=\u001b[0m\u001b[1;36m11121\u001b[0m\u001b[1;33m\u001b[0m\u001b[1;33m\u001b[0m\u001b[0m\n\u001b[1;32m---> 21\u001b[1;33m \u001b[0mfindNum\u001b[0m\u001b[1;33m(\u001b[0m\u001b[0mnum\u001b[0m\u001b[1;33m,\u001b[0m\u001b[0mlen\u001b[0m\u001b[1;33m(\u001b[0m\u001b[0mstr\u001b[0m\u001b[1;33m(\u001b[0m\u001b[0mnum\u001b[0m\u001b[1;33m)\u001b[0m\u001b[1;33m)\u001b[0m\u001b[1;33m)\u001b[0m\u001b[1;33m\u001b[0m\u001b[1;33m\u001b[0m\u001b[0m\n\u001b[0m",
      "\u001b[1;32m<ipython-input-20-4f82bd56908f>\u001b[0m in \u001b[0;36mfindNum\u001b[1;34m(number, n)\u001b[0m\n\u001b[0;32m      1\u001b[0m \u001b[1;32mdef\u001b[0m \u001b[0mfindNum\u001b[0m\u001b[1;33m(\u001b[0m\u001b[0mnumber\u001b[0m\u001b[1;33m,\u001b[0m\u001b[0mn\u001b[0m\u001b[1;33m)\u001b[0m\u001b[1;33m:\u001b[0m\u001b[1;33m\u001b[0m\u001b[1;33m\u001b[0m\u001b[0m\n\u001b[0;32m      2\u001b[0m     \u001b[1;32mfor\u001b[0m \u001b[0mi\u001b[0m \u001b[1;32min\u001b[0m \u001b[0mrange\u001b[0m\u001b[1;33m(\u001b[0m\u001b[0mn\u001b[0m\u001b[1;33m-\u001b[0m\u001b[1;36m1\u001b[0m\u001b[1;33m,\u001b[0m\u001b[1;36m0\u001b[0m\u001b[1;33m,\u001b[0m\u001b[1;33m-\u001b[0m\u001b[1;36m1\u001b[0m\u001b[1;33m)\u001b[0m\u001b[1;33m:\u001b[0m\u001b[1;33m\u001b[0m\u001b[1;33m\u001b[0m\u001b[0m\n\u001b[1;32m----> 3\u001b[1;33m         \u001b[1;32mif\u001b[0m \u001b[0mnumber\u001b[0m\u001b[1;33m[\u001b[0m\u001b[0mi\u001b[0m\u001b[1;33m]\u001b[0m \u001b[1;33m>\u001b[0m \u001b[0mnumber\u001b[0m\u001b[1;33m[\u001b[0m\u001b[0mi\u001b[0m\u001b[1;33m-\u001b[0m\u001b[1;36m1\u001b[0m\u001b[1;33m]\u001b[0m\u001b[1;33m:\u001b[0m\u001b[1;33m\u001b[0m\u001b[1;33m\u001b[0m\u001b[0m\n\u001b[0m\u001b[0;32m      4\u001b[0m             \u001b[1;32mbreak\u001b[0m\u001b[1;33m\u001b[0m\u001b[1;33m\u001b[0m\u001b[0m\n\u001b[0;32m      5\u001b[0m     \u001b[1;32mif\u001b[0m \u001b[0mi\u001b[0m \u001b[1;33m==\u001b[0m \u001b[1;36m1\u001b[0m \u001b[1;32mand\u001b[0m \u001b[0mnumber\u001b[0m\u001b[1;33m[\u001b[0m\u001b[0mi\u001b[0m\u001b[1;33m]\u001b[0m \u001b[1;33m<=\u001b[0m \u001b[0mnumber\u001b[0m\u001b[1;33m[\u001b[0m\u001b[0mi\u001b[0m\u001b[1;33m-\u001b[0m\u001b[1;36m1\u001b[0m\u001b[1;33m]\u001b[0m\u001b[1;33m:\u001b[0m\u001b[1;33m\u001b[0m\u001b[1;33m\u001b[0m\u001b[0m\n",
      "\u001b[1;31mTypeError\u001b[0m: 'int' object is not subscriptable"
     ]
    }
   ],
   "source": [
    "def findNum(number,n):\n",
    "    for i in range(n-1,0,-1): \n",
    "        if number[i] > number[i-1]: \n",
    "            break\n",
    "    if i == 1 and number[i] <= number[i-1]: \n",
    "        return -1\n",
    "    x = number[i-1] \n",
    "    smallest = i \n",
    "    for j in range(i+1,n): \n",
    "        if number[j] > x and number[j] < number[smallest]: \n",
    "            smallest = j \n",
    "    number[smallest],number[i-1] = number[i-1], number[smallest] \n",
    "    x = 0\n",
    "    for j in range(i): \n",
    "        x = x * 10 + number[j] \n",
    "    number = sorted(number[i:]) \n",
    "    for j in range(n-i): \n",
    "        x = x * 10 + number[j] \n",
    "    return x\n",
    "num=11121\n",
    "findNum(num,len(str(num)))"
   ]
  },
  {
   "cell_type": "code",
   "execution_count": 7,
   "metadata": {},
   "outputs": [
    {
     "name": "stdout",
     "output_type": "stream",
     "text": [
      "2 3\n",
      "2 3\n",
      "2 1\n",
      "[[2 3]\n",
      " [2 3]\n",
      " [2 1]]\n"
     ]
    }
   ],
   "source": [
    "import numpy as np\n",
    "n=3\n",
    "row=list()\n",
    "for i in range(n):\n",
    "    row.append(list(map(int,input().split())))\n",
    "arr1 = np.array(row)    \n",
    "print(arr1)    "
   ]
  },
  {
   "cell_type": "code",
   "execution_count": 19,
   "metadata": {},
   "outputs": [],
   "source": [
    "for i in range(3):\n",
    "    arr1[i,:]=arr1[i,:]*2"
   ]
  },
  {
   "cell_type": "code",
   "execution_count": 28,
   "metadata": {},
   "outputs": [
    {
     "data": {
      "text/plain": [
       "3"
      ]
     },
     "execution_count": 28,
     "metadata": {},
     "output_type": "execute_result"
    }
   ],
   "source": [
    "len(arr1)"
   ]
  },
  {
   "cell_type": "code",
   "execution_count": 29,
   "metadata": {},
   "outputs": [
    {
     "data": {
      "text/plain": [
       "2"
      ]
     },
     "execution_count": 29,
     "metadata": {},
     "output_type": "execute_result"
    }
   ],
   "source": [
    "len(arr1[0])"
   ]
  },
  {
   "cell_type": "code",
   "execution_count": 33,
   "metadata": {},
   "outputs": [
    {
     "name": "stdout",
     "output_type": "stream",
     "text": [
      " 8 12\n",
      " 8 12\n",
      "8 4\n"
     ]
    }
   ],
   "source": [
    "for i in arr1:\n",
    "    print(''.join(str(i))[1:-1])"
   ]
  },
  {
   "cell_type": "code",
   "execution_count": 34,
   "metadata": {},
   "outputs": [],
   "source": [
    "row=list()\n",
    "for i in range(3):\n",
    "    row.append([0]*4)\n",
    "    \n",
    "    "
   ]
  },
  {
   "cell_type": "markdown",
   "metadata": {},
   "source": [
    "## Matrix maultiplication"
   ]
  },
  {
   "cell_type": "code",
   "execution_count": 44,
   "metadata": {},
   "outputs": [
    {
     "name": "stdout",
     "output_type": "stream",
     "text": [
      "114 160 60 27\n",
      "74 97 73 14\n",
      "119 157 112 23\n"
     ]
    }
   ],
   "source": [
    "A = [[12, 7, 3], \n",
    "    [4, 5, 6], \n",
    "    [7, 8, 9]] \n",
    "  \n",
    "# take a 3x4 matrix \n",
    "B = [[5, 8, 1, 2], \n",
    "    [6, 7, 3, 0], \n",
    "    [4, 5, 9, 1]] \n",
    "result=list()\n",
    "for i in range(len(B)):\n",
    "    result.append([0]*len(B[0]))\n",
    "for i in range(len(A)):\n",
    "    for j in range(len(B[0])):\n",
    "        for k in range(len(B)):\n",
    "            result[i][j] += A[i][k] * B[k][j]\n",
    "            \n",
    "for i in result:\n",
    "    print(''.join(str(i).split(','))[1:-1])\n",
    "    \n",
    "# np.dot(X,Y)    "
   ]
  },
  {
   "cell_type": "code",
   "execution_count": 81,
   "metadata": {},
   "outputs": [
    {
     "data": {
      "text/plain": [
       "[[12, 7, 3], [4, 5, 6], [7, 8, 9], [5, 8, 1, 2], [6, 7, 3, 0], [4, 5, 9, 1]]"
      ]
     },
     "execution_count": 81,
     "metadata": {},
     "output_type": "execute_result"
    }
   ],
   "source": []
  },
  {
   "cell_type": "markdown",
   "metadata": {},
   "source": [
    "## Matrix addition"
   ]
  },
  {
   "cell_type": "code",
   "execution_count": 83,
   "metadata": {},
   "outputs": [
    {
     "name": "stdout",
     "output_type": "stream",
     "text": [
      "[17, 15, 4]\n",
      "[10, 12, 9]\n",
      "[11, 13, 18]\n"
     ]
    }
   ],
   "source": [
    "# Program to add two matrices using nested loop \n",
    "X = [[12, 7, 3], \n",
    "    [4, 5, 6], \n",
    "    [7, 8, 9]] \n",
    "  \n",
    "# take a 3x4 matrix \n",
    "Y = [[5, 8, 1, 2], \n",
    "    [6, 7, 3, 0], \n",
    "    [4, 5, 9, 1]] \n",
    "\n",
    "\n",
    "result = [[0,0,0], \n",
    "\t\t[0,0,0], \n",
    "\t\t[0,0,0]] \n",
    "\n",
    "# iterate through rows \n",
    "for i in range(len(X)): \n",
    "# iterate through columns \n",
    "\tfor j in range(len(X[0])): \n",
    "\t\tresult[i][j] = X[i][j] + Y[i][j] \n",
    "\n",
    "for r in result: \n",
    "\tprint(r) \n"
   ]
  },
  {
   "cell_type": "code",
   "execution_count": 87,
   "metadata": {},
   "outputs": [
    {
     "data": {
      "text/plain": [
       "[12, 7, 3, 6, 7, 3, 0]"
      ]
     },
     "execution_count": 87,
     "metadata": {},
     "output_type": "execute_result"
    }
   ],
   "source": [
    "X[0][:] + Y[1][:]"
   ]
  },
  {
   "cell_type": "markdown",
   "metadata": {},
   "source": [
    "### sum of single matrix using numpy"
   ]
  },
  {
   "cell_type": "code",
   "execution_count": 78,
   "metadata": {},
   "outputs": [
    {
     "name": "stdout",
     "output_type": "stream",
     "text": [
      "[20 20 12]\n",
      "[24 28]\n"
     ]
    },
    {
     "data": {
      "text/plain": [
       "36"
      ]
     },
     "execution_count": 78,
     "metadata": {},
     "output_type": "execute_result"
    }
   ],
   "source": [
    "print(np.sum(arr1,axis=1))\n",
    "print(np.sum(arr1,axis=0))\n",
    "sum(result[0][:])"
   ]
  },
  {
   "cell_type": "code",
   "execution_count": 88,
   "metadata": {},
   "outputs": [
    {
     "name": "stdout",
     "output_type": "stream",
     "text": [
      "96\n"
     ]
    }
   ],
   "source": [
    "re=1\n",
    "for i in arr1[0,:]:\n",
    "    re *=i\n",
    "print(re) "
   ]
  },
  {
   "cell_type": "markdown",
   "metadata": {},
   "source": [
    "## Matrix rotation"
   ]
  },
  {
   "cell_type": "code",
   "execution_count": 120,
   "metadata": {},
   "outputs": [
    {
     "name": "stdout",
     "output_type": "stream",
     "text": [
      "[(3, 1), (4, 2)]\n",
      "[(7, 4, 12), (8, 5, 7), (9, 6, 3)]\n",
      "[[3, 4], [1, 2]]\n"
     ]
    },
    {
     "data": {
      "text/plain": [
       "[[2, 4], [1, 3]]"
      ]
     },
     "execution_count": 120,
     "metadata": {},
     "output_type": "execute_result"
    }
   ],
   "source": [
    "## Rotate array clockwise direction\n",
    "print(list(zip(*original[::-1])))\n",
    "print(list(zip(*X[::-1])))\n",
    "\n",
    "## Rotate array by row\n",
    "\n",
    "original = [[1, 2],\n",
    "            [3, 4]]\n",
    "print(original[::-1])\n",
    "\n",
    "## Rotate Anti clockwise\n",
    "\n",
    "clockwise=list(zip(*reversed(original)))\n",
    "[list(i)[::-1] for i in clockwise][::-1]"
   ]
  },
  {
   "cell_type": "markdown",
   "metadata": {},
   "source": [
    "## String questions"
   ]
  },
  {
   "cell_type": "markdown",
   "metadata": {},
   "source": [
    "1) Find the maximum occurring character in given String\n"
   ]
  },
  {
   "cell_type": "code",
   "execution_count": 130,
   "metadata": {},
   "outputs": [
    {
     "name": "stdout",
     "output_type": "stream",
     "text": [
      "java\n",
      "a\n"
     ]
    }
   ],
   "source": [
    "string = input()\n",
    "def maxchar(string):\n",
    "    d = dict()\n",
    "    for i in string:\n",
    "        if not i in d:\n",
    "            d[i] = 1\n",
    "        else:\n",
    "            d[i]+=1\n",
    "    c=max(d.values())\n",
    "    \n",
    "    for i,j in d.items():\n",
    "        if(c==j):\n",
    "            return i\n",
    "    \n",
    "print(maxchar(string))\n",
    "            \n",
    "    \n",
    "        "
   ]
  },
  {
   "cell_type": "markdown",
   "metadata": {},
   "source": [
    "2) Remove all duplicates from a given string\n"
   ]
  },
  {
   "cell_type": "code",
   "execution_count": 162,
   "metadata": {},
   "outputs": [
    {
     "name": "stdout",
     "output_type": "stream",
     "text": [
      "['r', 'l', 'e', 's', ' ', 'v', 'p', 'm', 'd', 'i', 'a', 'c', 't', 'o', 'u']\n",
      "remov duplicats\n"
     ]
    }
   ],
   "source": [
    "string = 'remove duplicates'\n",
    "print(list(set(string)))\n",
    "\n",
    "l=list()\n",
    "for i in string:\n",
    "    if not i in l:\n",
    "        l.append(i)\n",
    "print(''.join(l))"
   ]
  },
  {
   "cell_type": "markdown",
   "metadata": {},
   "source": [
    "3) print the duplicate characters from the given String\n"
   ]
  },
  {
   "cell_type": "code",
   "execution_count": 170,
   "metadata": {},
   "outputs": [
    {
     "name": "stdout",
     "output_type": "stream",
     "text": [
      "e\n"
     ]
    }
   ],
   "source": [
    "string = 'remove duplicates'\n",
    "\n",
    "\n",
    "l=list()\n",
    "duplicates=list()\n",
    "for i in string:\n",
    "    if not i in l:\n",
    "        l.append(i)\n",
    "    else:\n",
    "        duplicates.append(i)\n",
    "print(''.join(list(set(duplicates))))"
   ]
  },
  {
   "cell_type": "markdown",
   "metadata": {},
   "source": [
    "4) Remove characters from the first String which are present in the second String\n"
   ]
  },
  {
   "cell_type": "code",
   "execution_count": 174,
   "metadata": {},
   "outputs": [
    {
     "name": "stdout",
     "output_type": "stream",
     "text": [
      "tri\n"
     ]
    }
   ],
   "source": [
    "string1 = 'string'\n",
    "string2 = 'secondg'\n",
    "l=list()\n",
    "for i in string1:\n",
    "    if i in string2:\n",
    "        pass\n",
    "    else:\n",
    "        l.append(i)\n",
    "print(''.join(l))        \n",
    "    "
   ]
  },
  {
   "cell_type": "markdown",
   "metadata": {},
   "source": [
    "5) How to check if two strings are rotations of each other"
   ]
  },
  {
   "cell_type": "code",
   "execution_count": 177,
   "metadata": {},
   "outputs": [
    {
     "name": "stdout",
     "output_type": "stream",
     "text": [
      "Enter string firststring\n",
      "Enter string secondngstri\n",
      "yes\n"
     ]
    }
   ],
   "source": [
    "def rotatestring(string,d):\n",
    "    return string[d:] + string[:d]\n",
    "string = input(\"Enter string first\")\n",
    "string2 = input(\"Enter string second\")\n",
    "flag = True\n",
    "if(len(string)==len(string2)):\n",
    "    for i in range(1,len(string)):\n",
    "        if(string2 == rotatestring(string,i)):\n",
    "            flag = False\n",
    "            print(\"yes\")\n",
    "            break\n",
    "if(flag):\n",
    "    print(\"Not\")"
   ]
  },
  {
   "cell_type": "markdown",
   "metadata": {},
   "source": [
    "6) print all permutations of string"
   ]
  },
  {
   "cell_type": "code",
   "execution_count": 185,
   "metadata": {},
   "outputs": [
    {
     "name": "stdout",
     "output_type": "stream",
     "text": [
      "[213, 312, 231, 132, 123, 321]\n"
     ]
    }
   ],
   "source": [
    "from itertools import permutations\n",
    "s='123'\n",
    "l1=list()\n",
    "per=list(set(permutations(s)))\n",
    "for i in per:\n",
    "    l1.append(''.join(i))\n",
    "\n",
    "l1 = [ int(x) for x in l1]    \n",
    "print(l1)"
   ]
  },
  {
   "cell_type": "markdown",
   "metadata": {},
   "source": [
    "## Sort string with lenth"
   ]
  },
  {
   "cell_type": "code",
   "execution_count": 23,
   "metadata": {},
   "outputs": [
    {
     "name": "stdout",
     "output_type": "stream",
     "text": [
      "['before', 'hello', 'world', 'all']\n"
     ]
    }
   ],
   "source": [
    "def ThirdGreatest(strArr):\n",
    "    \n",
    "    strArr.sort(reverse=True, key=len)\n",
    "    return strArr\n",
    "strArrr = [\"hello\", \"world\", \"before\", \"all\"]\n",
    "print(ThirdGreatest(strArrr))"
   ]
  },
  {
   "cell_type": "markdown",
   "metadata": {},
   "source": [
    "## Remove Brackets"
   ]
  },
  {
   "cell_type": "code",
   "execution_count": 6,
   "metadata": {},
   "outputs": [
    {
     "name": "stdout",
     "output_type": "stream",
     "text": [
      "()((()\n",
      "2\n"
     ]
    }
   ],
   "source": [
    "'''def removeBrackets(string):\n",
    "    stack = list()\n",
    "    for i in string:\n",
    "        if len(stack)==0:\n",
    "            stack.append(i)\n",
    "        else:\n",
    "            if(i=='('):\n",
    "                stack.append(i)\n",
    "            else:\n",
    "                stack.pop()\n",
    "    return len(stack)            \n",
    "        \n",
    "\n",
    "string = input()\n",
    "print(removeBrackets(string)) '''\n",
    "\n",
    "def RemoveBrackets(str):\n",
    "\n",
    "    # code goes here\n",
    "    stack = list()\n",
    "    for i in str:\n",
    "      if len(stack) == 0:\n",
    "        stack.append(i)\n",
    "      else:\n",
    "        if i == ')' and stack[-1] == '(':\n",
    "          stack.pop()\n",
    "        else:\n",
    "          stack.append(i)\n",
    "    return len(stack)\n",
    "string = input()\n",
    "print(removeBrackets(string))"
   ]
  },
  {
   "cell_type": "code",
   "execution_count": 14,
   "metadata": {},
   "outputs": [
    {
     "name": "stdout",
     "output_type": "stream",
     "text": [
      "[ 6  4 13 17]\n"
     ]
    }
   ],
   "source": [
    "import numpy as np\n",
    "def arrayMaching(a,b):\n",
    "    a=list(map(int,a.split(',')))\n",
    "    b=list(map(int,b.split(',')))\n",
    "    a=np.array(a)\n",
    "    b=np.array(b)\n",
    "    return a+b\n",
    "s=[\"[1, 2, 5, 6]\", \"[5, 2, 8, 11]\"]\n",
    "a,b=s\n",
    "print(arrayMaching(a[1:-1],b[1:-1]))"
   ]
  },
  {
   "cell_type": "markdown",
   "metadata": {},
   "source": [
    "## Addition of two array"
   ]
  },
  {
   "cell_type": "code",
   "execution_count": 25,
   "metadata": {},
   "outputs": [
    {
     "name": "stdout",
     "output_type": "stream",
     "text": [
      "[4, 6, 5, 4, 5]\n",
      "[4, 6, 5, 4, 5]\n",
      "[(2, 2), (3, 3), (1, 4), (2, 2), (3, 2)]\n",
      "[(2, 2), (3, 3), (1, 4), (2, 2), (3, 2)]\n"
     ]
    }
   ],
   "source": [
    "a=[2,3,1,2,3]\n",
    "b=[2,3,4,2,2]\n",
    "print([i+j for i,j in zip(a,b)])\n",
    "print(list(map(sum,zip(a,b))))\n",
    "print(list(filter(sum,zip(a,b))))\n",
    "print(list(zip(a,b)))"
   ]
  },
  {
   "cell_type": "code",
   "execution_count": null,
   "metadata": {},
   "outputs": [],
   "source": []
  },
  {
   "cell_type": "code",
   "execution_count": null,
   "metadata": {},
   "outputs": [],
   "source": [
    "from collections import Counter\n",
    "s=input()\n",
    "p=input()\n",
    "def substringw(s,p):\n",
    "    dict = Counter(p)\n",
    "    n = len(dict)       \n",
    "    start,end=0,n-1\n",
    "    while(end<len(s)):\n",
    "        dict2 =Counter(s[start:end+1])\n",
    "substringw(s,p)"
   ]
  },
  {
   "cell_type": "code",
   "execution_count": 140,
   "metadata": {},
   "outputs": [
    {
     "name": "stdout",
     "output_type": "stream",
     "text": [
      "a\n",
      "b\n",
      "c\n",
      "d\n",
      "0\n",
      "1\n",
      "2\n",
      "3\n",
      "4\n"
     ]
    }
   ],
   "source": [
    "d={'a':1,'b':2,'c':3,'d':4}\n",
    "l=[11,22,33,44,55]\n",
    "## Dictionary operation # use dict.items() for dictionary\n",
    "for value,key in enumerate(d):\n",
    "    print(key)\n",
    "    \n",
    "## list operation    \n",
    "for key,value in enumerate(l):\n",
    "    print(key)\n",
    "   \n"
   ]
  },
  {
   "cell_type": "code",
   "execution_count": null,
   "metadata": {},
   "outputs": [],
   "source": []
  }
 ],
 "metadata": {
  "kernelspec": {
   "display_name": "Python 3",
   "language": "python",
   "name": "python3"
  },
  "language_info": {
   "codemirror_mode": {
    "name": "ipython",
    "version": 3
   },
   "file_extension": ".py",
   "mimetype": "text/x-python",
   "name": "python",
   "nbconvert_exporter": "python",
   "pygments_lexer": "ipython3",
   "version": "3.8.3"
  }
 },
 "nbformat": 4,
 "nbformat_minor": 4
}
