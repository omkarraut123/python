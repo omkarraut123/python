{
 "cells": [
  {
   "cell_type": "markdown",
   "metadata": {},
   "source": [
    "# Perfect Number\n",
    "The smallest perfect number is 6, which is the sum of 1, 2, and 3"
   ]
  },
  {
   "cell_type": "code",
   "execution_count": 6,
   "metadata": {},
   "outputs": [
    {
     "name": "stdout",
     "output_type": "stream",
     "text": [
      "496\n",
      "perfect number\n"
     ]
    }
   ],
   "source": [
    "def perfectN(num):\n",
    "    n=sum([i for i in range(1,num) if num%i==0])\n",
    "    if(n==num):\n",
    "        return \"perfect number\"\n",
    "    else:\n",
    "        return \"not a perfect Number\"\n",
    "           \n",
    "           \n",
    "    \n",
    "\n",
    "num=int(input())\n",
    "print(perfectN(num))\n"
   ]
  },
  {
   "cell_type": "markdown",
   "metadata": {},
   "source": [
    "# Armstrong number"
   ]
  },
  {
   "cell_type": "code",
   "execution_count": null,
   "metadata": {},
   "outputs": [],
   "source": [
    "num=int(input())\n",
    "sum1=0\n",
    "while(num>0):\n",
    "    rem = num%10\n",
    "    num /=10"
   ]
  }
 ],
 "metadata": {
  "kernelspec": {
   "display_name": "Python 3",
   "language": "python",
   "name": "python3"
  },
  "language_info": {
   "codemirror_mode": {
    "name": "ipython",
    "version": 3
   },
   "file_extension": ".py",
   "mimetype": "text/x-python",
   "name": "python",
   "nbconvert_exporter": "python",
   "pygments_lexer": "ipython3",
   "version": "3.8.3"
  }
 },
 "nbformat": 4,
 "nbformat_minor": 4
}
