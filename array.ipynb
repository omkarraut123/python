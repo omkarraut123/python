{
 "cells": [
  {
   "cell_type": "code",
   "execution_count": 48,
   "metadata": {},
   "outputs": [
    {
     "name": "stdout",
     "output_type": "stream",
     "text": [
      "2 3 4 1\n",
      "2 4 5 6\n",
      "8 6 5 4\n",
      "[[2, 3, 4, 1], [2, 4, 5, 6], [8, 6, 5, 4]]\n"
     ]
    }
   ],
   "source": [
    "import numpy as np\n",
    "n=3\n",
    "arr=[]\n",
    "for i in range(n):\n",
    "    row = list(map(int,input().split()))\n",
    "    arr.append(row)\n",
    "print(arr)   \n",
    "arr1=np.array(arr) \n",
    "\n"
   ]
  },
  {
   "cell_type": "code",
   "execution_count": 37,
   "metadata": {},
   "outputs": [
    {
     "name": "stdout",
     "output_type": "stream",
     "text": [
      "[2 3 3 4]\n",
      "[2 0 1]\n",
      "[3 2 2]\n",
      "[3, 4, 2, 3]\n"
     ]
    },
    {
     "data": {
      "text/plain": [
       "array([[2, 3, 3, 4],\n",
       "       [0, 4, 2, 1],\n",
       "       [1, 2, 2, 1]])"
      ]
     },
     "execution_count": 37,
     "metadata": {},
     "output_type": "execute_result"
    }
   ],
   "source": [
    "print(arr1[0,:])\n",
    "print(arr1[:,0])\n",
    "print(arr1[:,2])\n",
    "print(arr[0][:])\n",
    "arr1"
   ]
  },
  {
   "cell_type": "markdown",
   "metadata": {},
   "source": [
    "### How to sort array "
   ]
  },
  {
   "cell_type": "code",
   "execution_count": 43,
   "metadata": {},
   "outputs": [
    {
     "name": "stdout",
     "output_type": "stream",
     "text": [
      "[[3 4 1 3]\n",
      " [8 5 2 2]\n",
      " [3 2 3 2]]\n",
      "[[1 3 3 4]\n",
      " [8 5 2 2]\n",
      " [3 2 3 2]]\n",
      "[1, 3, 3, 4]\n"
     ]
    }
   ],
   "source": [
    "## sort columns\n",
    "arr1[:,2]=sorted(arr1[:,2])\n",
    "print(arr1)\n",
    "\n",
    "## sort rows\n",
    "arr1[0,:] = sorted(arr1[0,:])\n",
    "print(arr1)\n",
    "\n",
    "## wrong way to sort array\n",
    "arr1 = sorted(arr1[0,:])\n",
    "print(arr1)"
   ]
  },
  {
   "cell_type": "code",
   "execution_count": 66,
   "metadata": {},
   "outputs": [],
   "source": [
    "a=np.array([[1,2,3],[2,3,5]])\n",
    "b=np.array([[6,2,7],[25,6,5]])"
   ]
  },
  {
   "cell_type": "code",
   "execution_count": 70,
   "metadata": {},
   "outputs": [
    {
     "name": "stdout",
     "output_type": "stream",
     "text": [
      "[[ 6  4 21]\n",
      " [50 18 25]]\n"
     ]
    }
   ],
   "source": [
    "## add two numpy array\n",
    "z = a+b\n",
    "# a*b\n",
    "# a//b\n",
    "print(z)"
   ]
  },
  {
   "cell_type": "code",
   "execution_count": 72,
   "metadata": {},
   "outputs": [
    {
     "name": "stdout",
     "output_type": "stream",
     "text": [
      "[12  4 14]\n"
     ]
    }
   ],
   "source": [
    "# b*2\n",
    "z=b[0,:]*2\n",
    "print(z)"
   ]
  },
  {
   "cell_type": "markdown",
   "metadata": {},
   "source": [
    "## Calculate the rotation distance for a sorted rotated array\n",
    "#### For example: \n",
    "input:\n",
    "4, 5, 6, 1, 2, 3\n",
    "output:\n",
    "3"
   ]
  },
  {
   "cell_type": "code",
   "execution_count": 3,
   "metadata": {},
   "outputs": [
    {
     "name": "stdout",
     "output_type": "stream",
     "text": [
      "4 5 6 1 2 3\n",
      "3\n"
     ]
    }
   ],
   "source": [
    "arr = list(map(int,input().split()))\n",
    "print(arr.index(min(arr)))"
   ]
  },
  {
   "cell_type": "code",
   "execution_count": 3,
   "metadata": {},
   "outputs": [
    {
     "data": {
      "text/plain": [
       "array([4, 6, 4, 6])"
      ]
     },
     "execution_count": 3,
     "metadata": {},
     "output_type": "execute_result"
    }
   ],
   "source": [
    "import numpy as np\n",
    "a=np.array([1,2,3,4])\n",
    "b=np.array([3,4,1,2])\n",
    "a+b"
   ]
  },
  {
   "cell_type": "code",
   "execution_count": 2,
   "metadata": {},
   "outputs": [
    {
     "data": {
      "text/plain": [
       "[1, 2, 3, 4, 3, 4, 1, 2]"
      ]
     },
     "execution_count": 2,
     "metadata": {},
     "output_type": "execute_result"
    }
   ],
   "source": []
  },
  {
   "cell_type": "code",
   "execution_count": null,
   "metadata": {},
   "outputs": [],
   "source": []
  }
 ],
 "metadata": {
  "kernelspec": {
   "display_name": "Python 3",
   "language": "python",
   "name": "python3"
  },
  "language_info": {
   "codemirror_mode": {
    "name": "ipython",
    "version": 3
   },
   "file_extension": ".py",
   "mimetype": "text/x-python",
   "name": "python",
   "nbconvert_exporter": "python",
   "pygments_lexer": "ipython3",
   "version": "3.8.3"
  }
 },
 "nbformat": 4,
 "nbformat_minor": 4
}
