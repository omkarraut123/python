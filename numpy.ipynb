{
 "cells": [
  {
   "cell_type": "code",
   "execution_count": null,
   "metadata": {},
   "outputs": [
    {
     "name": "stdout",
     "output_type": "stream",
     "text": [
      "4 2 3 5\n",
      "3 4 1 2\n"
     ]
    }
   ],
   "source": [
    "import numpy as np\n",
    "n=3\n",
    "arr=[]\n",
    "for i in range(n):\n",
    "    row = list(map(int,input().split()))\n",
    "    arr.append(row)\n",
    "print(arr)   \n",
    "arr1=np.array(arr) \n",
    " \n"
   ]
  },
  {
   "cell_type": "code",
   "execution_count": null,
   "metadata": {},
   "outputs": [],
   "source": []
  },
  {
   "cell_type": "code",
   "execution_count": null,
   "metadata": {},
   "outputs": [],
   "source": []
  },
  {
   "cell_type": "markdown",
   "metadata": {},
   "source": []
  },
  {
   "cell_type": "markdown",
   "metadata": {},
   "source": [
    "Remove square brackets from list \n",
    "using str() + list slicing"
   ]
  },
  {
   "cell_type": "code",
   "execution_count": 1,
   "metadata": {},
   "outputs": [
    {
     "name": "stdout",
     "output_type": "stream",
     "text": [
      "The original list is : [5, 6, 8, 9, 10, 21]\n",
      "List after removing square brackets : 5 6 8 9 10 21\n"
     ]
    }
   ],
   "source": [
    "test_list = [5, 6, 8, 9, 10, 21] \n",
    "\n",
    "print(\"The original list is : \" + str(test_list)) \n",
    "\n",
    "# Remove square brackets from list \n",
    "# using str() + list slicing \n",
    "res = str(test_list)[1:-1] \n",
    "\n",
    "# printing result \n",
    "print(\"List after removing square brackets : \" + \"\".join(res.split(\",\")) )"
   ]
  },
  {
   "cell_type": "code",
   "execution_count": 11,
   "metadata": {},
   "outputs": [],
   "source": [
    "def duplicate(l):\n",
    "    result= []\n",
    "    for i in l:\n",
    "        if not i in result:\n",
    "            result.append(i)\n",
    "    return result        "
   ]
  },
  {
   "cell_type": "code",
   "execution_count": 12,
   "metadata": {},
   "outputs": [
    {
     "name": "stdout",
     "output_type": "stream",
     "text": [
      "[1, 2, 3, 4]\n"
     ]
    }
   ],
   "source": [
    "print duplicate([1,2,2,1,3,4,3])"
   ]
  },
  {
   "cell_type": "code",
   "execution_count": 27,
   "metadata": {},
   "outputs": [
    {
     "name": "stdout",
     "output_type": "stream",
     "text": [
      "[1, 2, 3]\n"
     ]
    }
   ],
   "source": [
    "l = [1,2,2,3,1,2,3]\n",
    "print list(set(l))\n"
   ]
  },
  {
   "cell_type": "code",
   "execution_count": 1,
   "metadata": {},
   "outputs": [
    {
     "name": "stdout",
     "output_type": "stream",
     "text": [
      "0 a\n",
      "1 c\n",
      "2 b\n",
      "3 d\n",
      "None\n"
     ]
    }
   ],
   "source": [
    "\n",
    "def count_c(l1):\n",
    "    result={}\n",
    "    for i in l1:\n",
    "        if i not in result:\n",
    "            result[i]=1\n",
    "        else:\n",
    "            result[i]+=1\n",
    "    for key , value in enumerate(result):\n",
    "        print key,value\n",
    "          \n",
    "print count_c('aaabbcd')        "
   ]
  },
  {
   "cell_type": "code",
   "execution_count": 1,
   "metadata": {},
   "outputs": [
    {
     "data": {
      "text/plain": [
       "True"
      ]
     },
     "execution_count": 1,
     "metadata": {},
     "output_type": "execute_result"
    }
   ],
   "source": [
    "def subset(l1,l2):\n",
    "    temp = dict([(e,1) for e in l2])\n",
    "    for i in l1:\n",
    "        if not i in temp:\n",
    "            return False\n",
    "    return True\n",
    "subset([1,2,3],[1,2,3,4])\n",
    "\n"
   ]
  },
  {
   "cell_type": "markdown",
   "metadata": {},
   "source": [
    "# Gcd Number"
   ]
  },
  {
   "cell_type": "code",
   "execution_count": 5,
   "metadata": {},
   "outputs": [
    {
     "name": "stdout",
     "output_type": "stream",
     "text": [
      "6\n"
     ]
    }
   ],
   "source": [
    "def gcd(a,b):\n",
    "    if(b==0):\n",
    "        return a\n",
    "    else:\n",
    "        return gcd(b,a % b)\n",
    "print(gcd(6,12))    "
   ]
  },
  {
   "cell_type": "code",
   "execution_count": 7,
   "metadata": {},
   "outputs": [
    {
     "name": "stdout",
     "output_type": "stream",
     "text": [
      "6\n"
     ]
    }
   ],
   "source": [
    "from fractions import gcd\n",
    "print gcd(6,12)"
   ]
  },
  {
   "cell_type": "code",
   "execution_count": 15,
   "metadata": {},
   "outputs": [
    {
     "name": "stdout",
     "output_type": "stream",
     "text": [
      "{'john': 102, 'peter': 101, 'alex': 103, 'julia': 104}\n",
      "6 7 9\n"
     ]
    }
   ],
   "source": [
    "names = ['peter','john','alex','julia']\n",
    "rollno = [101,102,103,104]\n",
    "x = [6,7,9]\n",
    "dictionary = dict(zip(names,rollno))\n",
    "print(dictionary)\n",
    "a,b,c = x\n",
    "print a,b,c\n"
   ]
  },
  {
   "cell_type": "code",
   "execution_count": 12,
   "metadata": {},
   "outputs": [
    {
     "data": {
      "text/plain": [
       "[('john', 102), ('peter', 101), ('alex', 103), ('julia', 104)]"
      ]
     },
     "execution_count": 12,
     "metadata": {},
     "output_type": "execute_result"
    }
   ],
   "source": [
    "dictionary.items()"
   ]
  },
  {
   "cell_type": "code",
   "execution_count": 9,
   "metadata": {},
   "outputs": [
    {
     "name": "stdout",
     "output_type": "stream",
     "text": [
      "1A\n",
      "82\n"
     ]
    }
   ],
   "source": [
    "def fun1():\n",
    "    base  = raw_input()\n",
    "    num = int(base[0])\n",
    "    al = base[1]\n",
    "    print fun2(num,al)\n",
    "    \n",
    "    \n",
    "def fun2(num,al):\n",
    "    \n",
    "    return (int(num) * pow(17,1) + ord(al) * pow(17,0)) \n",
    "fun1()"
   ]
  },
  {
   "cell_type": "code",
   "execution_count": 8,
   "metadata": {},
   "outputs": [
    {
     "name": "stdout",
     "output_type": "stream",
     "text": [
      "('A', 65)\n"
     ]
    }
   ],
   "source": [
    "print(chr(65),ord('A'))"
   ]
  },
  {
   "cell_type": "markdown",
   "metadata": {
    "collapsed": true
   },
   "source": [
    "# simple interest tcs"
   ]
  },
  {
   "cell_type": "code",
   "execution_count": 15,
   "metadata": {},
   "outputs": [
    {
     "name": "stdout",
     "output_type": "stream",
     "text": [
      "1000\n",
      "1050.000\n",
      "1100.000\n",
      "1155.000\n",
      "1210.000\n",
      "1270.000\n",
      "1330.000\n",
      "1395.000\n",
      "1460.000\n",
      "1530.000\n",
      "1605.000\n"
     ]
    }
   ],
   "source": [
    "n = int(input())\n",
    "for i in range(10):\n",
    "    amt = n + ((n/100) * 5)\n",
    "    n = amt\n",
    "    print(\"%.2f\" %amt)"
   ]
  },
  {
   "cell_type": "markdown",
   "metadata": {},
   "source": [
    "# Rotate Left"
   ]
  },
  {
   "cell_type": "code",
   "execution_count": 4,
   "metadata": {},
   "outputs": [
    {
     "name": "stdout",
     "output_type": "stream",
     "text": [
      "dtrh\n"
     ]
    }
   ],
   "source": [
    "a = 'rhdt'\n",
    "d = 2\n",
    "def rotateLeft(a,d):\n",
    "    \n",
    "    return a[d:] + a[:d]\n",
    "print(rotateLeft(a,d))"
   ]
  },
  {
   "cell_type": "code",
   "execution_count": 4,
   "metadata": {},
   "outputs": [
    {
     "data": {
      "text/plain": [
       "[3, 4, 1, 2]"
      ]
     },
     "execution_count": 4,
     "metadata": {},
     "output_type": "execute_result"
    }
   ],
   "source": [
    "a[2:] + a[:2]"
   ]
  },
  {
   "cell_type": "markdown",
   "metadata": {},
   "source": [
    "# Rotate Right"
   ]
  },
  {
   "cell_type": "code",
   "execution_count": 6,
   "metadata": {},
   "outputs": [
    {
     "name": "stdout",
     "output_type": "stream",
     "text": [
      "dtrh\n"
     ]
    }
   ],
   "source": [
    "def rotateRight(a,d):\n",
    "    \n",
    "    return a[-d:] + a[:d]\n",
    "\n",
    "a=\"rhdt\"\n",
    "print(rotateRight(a,d))\n",
    "# [2,3,5,2,3]-->[3,2,,3,5,2]-->[2,3,,2,3,5]\n"
   ]
  },
  {
   "cell_type": "markdown",
   "metadata": {},
   "source": [
    "# Minimum number of swap"
   ]
  },
  {
   "cell_type": "code",
   "execution_count": 6,
   "metadata": {},
   "outputs": [
    {
     "data": {
      "text/plain": [
       "3"
      ]
     },
     "execution_count": 6,
     "metadata": {},
     "output_type": "execute_result"
    }
   ],
   "source": [
    "def minimumSwaps(arr):\n",
    "    n = len(arr)\n",
    "    count = 0\n",
    "    for i in range(n):\n",
    "        min = i\n",
    "        for j in range(i+1,n):\n",
    "            if(arr[j]<arr[min]):\n",
    "                min = j\n",
    "        if(min!= i):\n",
    "            temp = arr[j]\n",
    "            arr[j] = arr[i]\n",
    "            arr[i] = temp\n",
    "            count+=1\n",
    "    return count\n",
    "minimumSwaps([2,4,31,1])"
   ]
  },
  {
   "cell_type": "markdown",
   "metadata": {
    "collapsed": true
   },
   "source": [
    "# cutting rod"
   ]
  },
  {
   "cell_type": "code",
   "execution_count": 1,
   "metadata": {},
   "outputs": [
    {
     "name": "stdout",
     "output_type": "stream",
     "text": [
      "('Maximum Obtainable Value is', 22)\n"
     ]
    }
   ],
   "source": [
    "import sys \n",
    "  \n",
    "# A utility function to get the \n",
    "# maximum of two integers \n",
    "def max(a, b): \n",
    "    return a if (a > b) else b \n",
    "      \n",
    "# Returns the best obtainable price for a rod of length n  \n",
    "# and price[] as prices of different pieces \n",
    "def cutRod(price, n): \n",
    "    if(n <= 0): \n",
    "        return 0\n",
    "    max_val = -sys.maxsize-1\n",
    "      \n",
    "    # Recursively cut the rod in different pieces   \n",
    "    # and compare different configurations \n",
    "    for i in range(0, n): \n",
    "        max_val = max(max_val, price[i] + \n",
    "                      cutRod(price, n - i - 1)) \n",
    "    return max_val \n",
    "  \n",
    "# Driver code \n",
    "arr = [1, 5, 8, 9, 10, 17, 17, 20] \n",
    "size = len(arr) \n",
    "print(\"Maximum Obtainable Value is\", cutRod(arr, size))"
   ]
  },
  {
   "cell_type": "markdown",
   "metadata": {
    "collapsed": true
   },
   "source": [
    "# Reverse until number becames palindrome"
   ]
  },
  {
   "cell_type": "code",
   "execution_count": null,
   "metadata": {},
   "outputs": [],
   "source": [
    "Num =int(input())\n",
    "palindrome(Num)  \n",
    "def palindrome(Num):\n",
    "    while(True):\n",
    "        Num = Num + rev(Num)\n",
    "        if(pal1(Num)):\n",
    "            print \"palindrome\"\n",
    "            break\n",
    "\n",
    "def rev(n):\n",
    "    n = str(n)\n",
    "    return int(n[::-1])\n",
    "def pal1(Num):\n",
    "    Num = str(Num)\n",
    "    if Num == Num[::-1]:\n",
    "        return True\n",
    "    else:\n",
    "        return False\n",
    "    \n",
    "\n",
    "   "
   ]
  },
  {
   "cell_type": "code",
   "execution_count": 24,
   "metadata": {},
   "outputs": [
    {
     "name": "stdout",
     "output_type": "stream",
     "text": [
      "0\n",
      "1\n",
      "1\n"
     ]
    }
   ],
   "source": [
    "def fibo(n):\n",
    "    f0,f1,f2 = 0,1,0\n",
    "    print f0\n",
    "    print f1\n",
    "    for i in range(n):\n",
    "        f2 = f0 + f1\n",
    "        f0 = f1\n",
    "        f1 = f2\n",
    "        print f2\n",
    "fibo(1)  "
   ]
  },
  {
   "cell_type": "code",
   "execution_count": 26,
   "metadata": {},
   "outputs": [
    {
     "name": "stdout",
     "output_type": "stream",
     "text": [
      "2\n"
     ]
    }
   ],
   "source": [
    "n = \"this is string\"\n",
    "print n.count(\" \") "
   ]
  },
  {
   "cell_type": "markdown",
   "metadata": {},
   "source": [
    "# Rearrange array"
   ]
  },
  {
   "cell_type": "code",
   "execution_count": 1,
   "metadata": {},
   "outputs": [
    {
     "name": "stdout",
     "output_type": "stream",
     "text": [
      "[4]\n"
     ]
    }
   ],
   "source": [
    "def rearrange(arr):\n",
    "    n = len(arr)\n",
    "    new = []\n",
    "    for i in range(0,n):\n",
    "        for j in range(n-1,i+1):\n",
    "            if arr[i] != arr[j] :\n",
    "                new.append([j,i])\n",
    "            else:\n",
    "                 new.append(j)\n",
    "    return new     \n",
    "    \n",
    "print rearrange([1,2,3,4,5])    "
   ]
  },
  {
   "cell_type": "markdown",
   "metadata": {},
   "source": [
    "itertools unique combinations"
   ]
  },
  {
   "cell_type": "code",
   "execution_count": 3,
   "metadata": {},
   "outputs": [
    {
     "name": "stdout",
     "output_type": "stream",
     "text": [
      "[(1, 2), (1, 3), (1, 4), (2, 3), (2, 4), (3, 4)]\n"
     ]
    }
   ],
   "source": [
    "from itertools import combinations \n",
    "\n",
    "def rSubset(arr, r): \n",
    "    return list(combinations(arr, r)) \n",
    "\n",
    "\n",
    "arr = [1, 2, 3, 4] \n",
    "r = 2\n",
    "print rSubset(arr, r)\n",
    " \n",
    "   "
   ]
  },
  {
   "cell_type": "markdown",
   "metadata": {},
   "source": [
    "# pattern"
   ]
  },
  {
   "cell_type": "code",
   "execution_count": 9,
   "metadata": {},
   "outputs": [
    {
     "name": "stdout",
     "output_type": "stream",
     "text": [
      "4\n",
      "1\n",
      "2*2\n",
      "3*3*3\n",
      "4*4*4*4\n",
      "4*4*4*4\n",
      "3*3*3\n",
      "2*2\n",
      "1\n"
     ]
    }
   ],
   "source": [
    "n = int(input())\n",
    "for i in range(1,n + 1):\n",
    "    if i is 1:\n",
    "        print i\n",
    "    else:\n",
    "        print(str(i) + (\"*\" + str(i)) * (i-1))\n",
    "\n",
    "for i in range(n,0,-1):\n",
    "    if i is 1:\n",
    "        print i\n",
    "    else:\n",
    "        print(str(i) + (\"*\" + str(i)) * (i-1))    \n",
    "        "
   ]
  },
  {
   "cell_type": "markdown",
   "metadata": {
    "collapsed": true
   },
   "source": [
    "# Numpy array\n"
   ]
  },
  {
   "cell_type": "code",
   "execution_count": 11,
   "metadata": {},
   "outputs": [
    {
     "name": "stdout",
     "output_type": "stream",
     "text": [
      "2\n"
     ]
    }
   ],
   "source": [
    "import numpy as np\n",
    "arr = np.array([[1,2,3],[3,2,3],[4,5,6]])\n",
    "   \n",
    "print arr[0,1]"
   ]
  },
  {
   "cell_type": "code",
   "execution_count": 12,
   "metadata": {},
   "outputs": [
    {
     "data": {
      "text/plain": [
       "array([1, 2, 3])"
      ]
     },
     "execution_count": 12,
     "metadata": {},
     "output_type": "execute_result"
    }
   ],
   "source": [
    "arr[0,-1]\n",
    "arr[0:3]\n",
    "arr[0][0:3]"
   ]
  },
  {
   "cell_type": "code",
   "execution_count": 42,
   "metadata": {},
   "outputs": [
    {
     "name": "stdout",
     "output_type": "stream",
     "text": [
      "[1 2 3]\n",
      "[3 2 3]\n",
      "[4 5 6]\n"
     ]
    }
   ],
   "source": [
    "for i in range(3):\n",
    "    print(arr[i][:3])"
   ]
  },
  {
   "cell_type": "code",
   "execution_count": 13,
   "metadata": {},
   "outputs": [
    {
     "name": "stdout",
     "output_type": "stream",
     "text": [
      "(array([1, 3, 5, 7], dtype=int64),)\n"
     ]
    }
   ],
   "source": [
    "import numpy as np\n",
    "\n",
    "arr = np.array([1, 2, 3, 4, 5, 6, 7, 8])\n",
    "\n",
    "x = np.where(arr%2 == 0)\n",
    "\n",
    "print(x)"
   ]
  },
  {
   "cell_type": "code",
   "execution_count": 16,
   "metadata": {},
   "outputs": [
    {
     "name": "stdout",
     "output_type": "stream",
     "text": [
      "[1, 3, 3, 4]\n"
     ]
    }
   ],
   "source": [
    "arr = [1,2,3,4,3]\n",
    "arr.remove(arr[1])\n",
    "print(sorted(arr))"
   ]
  },
  {
   "cell_type": "code",
   "execution_count": 3,
   "metadata": {},
   "outputs": [
    {
     "name": "stdout",
     "output_type": "stream",
     "text": [
      "4 5\n",
      "2 3\n"
     ]
    }
   ],
   "source": [
    "for i in range(2):\n",
    "    yr,amt=[int(x) for x in raw_input().split(\" \")]\n",
    "    "
   ]
  },
  {
   "cell_type": "markdown",
   "metadata": {},
   "source": [
    "# dictionary operations IMP"
   ]
  },
  {
   "cell_type": "markdown",
   "metadata": {},
   "source": [
    "using dict.items() function"
   ]
  },
  {
   "cell_type": "code",
   "execution_count": 7,
   "metadata": {},
   "outputs": [
    {
     "name": "stdout",
     "output_type": "stream",
     "text": [
      "{'a': 1, 'c': 1, 'b': 1, 'd': 1}\n",
      "('a', 1)\n",
      "('c', 1)\n",
      "('b', 1)\n",
      "('d', 1)\n"
     ]
    }
   ],
   "source": [
    "l=['a','b','c','d']\n",
    "\n",
    "dic=dict([(x,1) for x in l])\n",
    "print(dic)\n",
    "for key,value in dic.items():\n",
    "    print(key,value)\n"
   ]
  },
  {
   "cell_type": "markdown",
   "metadata": {},
   "source": [
    "using enumarate function"
   ]
  },
  {
   "cell_type": "code",
   "execution_count": 8,
   "metadata": {},
   "outputs": [
    {
     "name": "stdout",
     "output_type": "stream",
     "text": [
      "{'a': 1, 'c': 1, 'b': 1, 'd': 1}\n",
      "('a', 0)\n",
      "('c', 1)\n",
      "('b', 2)\n",
      "('d', 3)\n"
     ]
    }
   ],
   "source": [
    "from collections import Counter\n",
    "l=['a','b','c','d']\n",
    "\n",
    "dic=dict([(x,1) for x in l])\n",
    "# dic = Counter(l)\n",
    "for value,key in enumerate(dic):\n",
    "    print(key,value)\n",
    "\n",
    "# pop element from dictionary\n",
    "#parameter should be key\n",
    "dic.pop('b')\n",
    "dic['e'] = 5"
   ]
  },
  {
   "cell_type": "code",
   "execution_count": 9,
   "metadata": {},
   "outputs": [
    {
     "name": "stdout",
     "output_type": "stream",
     "text": [
      "(0, 'a')\n",
      "(1, 'b')\n",
      "(2, 'c')\n",
      "(3, 'd')\n"
     ]
    }
   ],
   "source": [
    "names = ['peter','john','alex','julia']\n",
    "rollno = [101,102,103,104]\n",
    "x = [6,7,9]\n",
    "dictionary = dict(zip(names,rollno))\n",
    "print(dictionary)\n",
    "a,b,c = x\n",
    "print a,b,c\n"
   ]
  },
  {
   "cell_type": "code",
   "execution_count": 12,
   "metadata": {},
   "outputs": [
    {
     "data": {
      "text/plain": [
       "1"
      ]
     },
     "execution_count": 12,
     "metadata": {},
     "output_type": "execute_result"
    }
   ],
   "source": [
    "\n"
   ]
  },
  {
   "cell_type": "code",
   "execution_count": 13,
   "metadata": {},
   "outputs": [
    {
     "name": "stdout",
     "output_type": "stream",
     "text": [
      "{'c': 1, 'd': 1}\n"
     ]
    }
   ],
   "source": []
  },
  {
   "cell_type": "code",
   "execution_count": null,
   "metadata": {
    "collapsed": true
   },
   "outputs": [],
   "source": []
  }
 ],
 "metadata": {
  "kernelspec": {
   "display_name": "Python 3",
   "language": "python",
   "name": "python3"
  },
  "language_info": {
   "codemirror_mode": {
    "name": "ipython",
    "version": 3
   },
   "file_extension": ".py",
   "mimetype": "text/x-python",
   "name": "python",
   "nbconvert_exporter": "python",
   "pygments_lexer": "ipython3",
   "version": "3.8.3"
  }
 },
 "nbformat": 4,
 "nbformat_minor": 1
}
