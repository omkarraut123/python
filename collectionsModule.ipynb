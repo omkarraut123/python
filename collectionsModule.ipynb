{
 "cells": [
  {
   "cell_type": "markdown",
   "metadata": {},
   "source": [
    "### collections Module"
   ]
  },
  {
   "cell_type": "code",
   "execution_count": 9,
   "metadata": {},
   "outputs": [
    {
     "name": "stdout",
     "output_type": "stream",
     "text": [
      "{'s': 1, 't': 1, 'r': 1, 'i': 1, 'n': 1, 'g': 1}\n",
      "[4, 3]\n"
     ]
    },
    {
     "data": {
      "text/plain": [
       "[4, 1, 2, 3, 1, 9]"
      ]
     },
     "execution_count": 9,
     "metadata": {},
     "output_type": "execute_result"
    }
   ],
   "source": [
    "import collections\n",
    "from collections import Counter,OrderedDict\n",
    "import heapq\n",
    "temp = OrderedDict()\n",
    "temp = dict(Counter('string'))\n",
    "#temp = Counter(string)\n",
    "print(temp)\n",
    "print(heapq.nlargest(2,[2,3,1,2,4]))\n",
    "list(heapq.merge([4,1,2,3,1],[9]))\n"
   ]
  },
  {
   "cell_type": "code",
   "execution_count": 10,
   "metadata": {},
   "outputs": [
    {
     "name": "stdout",
     "output_type": "stream",
     "text": [
      "deque(['e', 'a', 'b', 'c'])\n",
      "deque(['e', 'a', 'c'])\n"
     ]
    }
   ],
   "source": [
    "from collections import deque\n",
    "d = deque()\n",
    "d2 = deque([1,2,3,4])\n",
    "d.append('a')\n",
    "d.append('b')\n",
    "d.append('c')\n",
    "d.appendleft('e')\n",
    "print(d)\n",
    "d.remove('b')\n",
    "print(d)\n",
    "d.rotate(2)\n",
    "d.reverse()\n",
    "l=list(d)\n",
    "d."
   ]
  },
  {
   "cell_type": "markdown",
   "metadata": {},
   "source": [
    "### itertools Module"
   ]
  },
  {
   "cell_type": "code",
   "execution_count": 11,
   "metadata": {},
   "outputs": [
    {
     "name": "stdout",
     "output_type": "stream",
     "text": [
      "[23, 21, 32, 12, 31, 13]\n"
     ]
    }
   ],
   "source": [
    "import itertools\n",
    "from itertools import permutations,combinations,combinations_with_replacement\n",
    "'''\n",
    "s='string'\n",
    "l1=list()\n",
    "per=list(set(permutations(s)))\n",
    "for i in per:\n",
    "    l1.append(''.join(i))\n",
    "    \n",
    "print(l1) '''\n",
    "\n",
    "\n",
    "s='123'\n",
    "l1=list()\n",
    "per=list(set(permutations(s,2))) \n",
    "for i in per:\n",
    "    l1.append(''.join(i))\n",
    "\n",
    "l1 = [ int(x) for x in l1]    \n",
    "print(l1)\n"
   ]
  },
  {
   "cell_type": "code",
   "execution_count": 16,
   "metadata": {},
   "outputs": [
    {
     "name": "stdout",
     "output_type": "stream",
     "text": [
      "[13, 12, 23]\n"
     ]
    }
   ],
   "source": [
    "l1=list()\n",
    "per=list(set(combinations(s,2))) # combinations_with_replacement\n",
    "for i in per:\n",
    "    l1.append(''.join(i))\n",
    "\n",
    "l1 = [ int(x) for x in l1]    \n",
    "print(l1)"
   ]
  },
  {
   "cell_type": "code",
   "execution_count": 3,
   "metadata": {},
   "outputs": [
    {
     "name": "stdout",
     "output_type": "stream",
     "text": [
      "deque(['e', 'a', 'b', 'c'])\n",
      "deque(['e', 'a', 'c'])\n"
     ]
    }
   ],
   "source": []
  },
  {
   "cell_type": "code",
   "execution_count": null,
   "metadata": {},
   "outputs": [],
   "source": []
  }
 ],
 "metadata": {
  "kernelspec": {
   "display_name": "Python 3",
   "language": "python",
   "name": "python3"
  },
  "language_info": {
   "codemirror_mode": {
    "name": "ipython",
    "version": 3
   },
   "file_extension": ".py",
   "mimetype": "text/x-python",
   "name": "python",
   "nbconvert_exporter": "python",
   "pygments_lexer": "ipython3",
   "version": "3.8.3"
  }
 },
 "nbformat": 4,
 "nbformat_minor": 4
}
